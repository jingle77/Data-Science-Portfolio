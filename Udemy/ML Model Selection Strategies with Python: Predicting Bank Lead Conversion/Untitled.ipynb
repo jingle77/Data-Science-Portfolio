{
 "cells": [
  {
   "cell_type": "markdown",
   "id": "6f5e55b1-7e91-4e89-a357-30c228633bfb",
   "metadata": {
    "tags": []
   },
   "source": [
    "## Libraries"
   ]
  },
  {
   "cell_type": "code",
   "execution_count": 2,
   "id": "45855570-1947-4963-8339-df3dcfd192ea",
   "metadata": {},
   "outputs": [],
   "source": [
    "## Importing Data\n",
    "import pandas as pd\n",
    "import numpy as np\n",
    "\n",
    "## EDA\n",
    "import matplotlib.pyplot as plt\n",
    "import seaborn as sns\n",
    "sns.set()\n",
    "\n",
    "## Feature Engineering and Model Preparation\n",
    "from sklearn.model_selection import train_test_split\n",
    "from imblearn.over_sampling import SMOTE\n",
    "import time\n",
    "\n",
    "## Models\n",
    "from sklearn.linear_model import LogisticRegression\n",
    "from sklearn import tree\n",
    "from xgboost import XGBClassifier\n",
    "from sklearn import svm\n",
    "\n",
    "## Evaluation\n",
    "from sklearn.metrics import accuracy_score\n",
    "\n",
    "## Model Deployment\n",
    "import sys\n",
    "import pickle\n",
    "import os"
   ]
  },
  {
   "cell_type": "markdown",
   "id": "4ac08b3a-feb7-4184-b51a-2ee545c76652",
   "metadata": {
    "tags": []
   },
   "source": [
    "## Importing Data"
   ]
  },
  {
   "cell_type": "code",
   "execution_count": 3,
   "id": "d7ed9e98-f118-4d81-ae0c-fdc14342d51c",
   "metadata": {},
   "outputs": [],
   "source": [
    "df = pd.read_csv(\"loan_lead_data.csv\")"
   ]
  },
  {
   "cell_type": "markdown",
   "id": "f0dfa465-c493-424f-a519-cf01aad38342",
   "metadata": {
    "tags": []
   },
   "source": [
    "## Preview Data"
   ]
  },
  {
   "cell_type": "code",
   "execution_count": 4,
   "id": "a6565dd0-aa6a-4cb9-9fc7-93b8a0712ce9",
   "metadata": {},
   "outputs": [
    {
     "data": {
      "text/html": [
       "<div>\n",
       "<style scoped>\n",
       "    .dataframe tbody tr th:only-of-type {\n",
       "        vertical-align: middle;\n",
       "    }\n",
       "\n",
       "    .dataframe tbody tr th {\n",
       "        vertical-align: top;\n",
       "    }\n",
       "\n",
       "    .dataframe thead th {\n",
       "        text-align: right;\n",
       "    }\n",
       "</style>\n",
       "<table border=\"1\" class=\"dataframe\">\n",
       "  <thead>\n",
       "    <tr style=\"text-align: right;\">\n",
       "      <th></th>\n",
       "      <th>Gender</th>\n",
       "      <th>Age</th>\n",
       "      <th>Employment Type</th>\n",
       "      <th>Credit Score</th>\n",
       "      <th>Source of Lead</th>\n",
       "      <th>Loan Period</th>\n",
       "      <th>Value of Collateral</th>\n",
       "      <th>Monthly Income</th>\n",
       "      <th>Bank Account Type</th>\n",
       "      <th>Existing EMI</th>\n",
       "      <th>Loan Amount</th>\n",
       "      <th>Estimated EMI</th>\n",
       "      <th>New Debt to Income ratio</th>\n",
       "      <th>Loan Approved</th>\n",
       "    </tr>\n",
       "  </thead>\n",
       "  <tbody>\n",
       "    <tr>\n",
       "      <th>0</th>\n",
       "      <td>Male</td>\n",
       "      <td>64</td>\n",
       "      <td>Self Employed</td>\n",
       "      <td>637</td>\n",
       "      <td>Call</td>\n",
       "      <td>5</td>\n",
       "      <td>9398</td>\n",
       "      <td>136924</td>\n",
       "      <td>Savings</td>\n",
       "      <td>19786</td>\n",
       "      <td>85449</td>\n",
       "      <td>17390.031160</td>\n",
       "      <td>0.271509</td>\n",
       "      <td>0</td>\n",
       "    </tr>\n",
       "    <tr>\n",
       "      <th>1</th>\n",
       "      <td>Female</td>\n",
       "      <td>24</td>\n",
       "      <td>Salaried</td>\n",
       "      <td>469</td>\n",
       "      <td>Online</td>\n",
       "      <td>10</td>\n",
       "      <td>61140</td>\n",
       "      <td>104646</td>\n",
       "      <td>Savings</td>\n",
       "      <td>19124</td>\n",
       "      <td>343120</td>\n",
       "      <td>35422.447180</td>\n",
       "      <td>0.521247</td>\n",
       "      <td>0</td>\n",
       "    </tr>\n",
       "    <tr>\n",
       "      <th>2</th>\n",
       "      <td>Female</td>\n",
       "      <td>49</td>\n",
       "      <td>Salaried</td>\n",
       "      <td>678</td>\n",
       "      <td>Walk-in</td>\n",
       "      <td>10</td>\n",
       "      <td>135590</td>\n",
       "      <td>151255</td>\n",
       "      <td>Savings</td>\n",
       "      <td>13071</td>\n",
       "      <td>118681</td>\n",
       "      <td>12252.190061</td>\n",
       "      <td>0.167421</td>\n",
       "      <td>0</td>\n",
       "    </tr>\n",
       "    <tr>\n",
       "      <th>3</th>\n",
       "      <td>Female</td>\n",
       "      <td>53</td>\n",
       "      <td>Salaried</td>\n",
       "      <td>651</td>\n",
       "      <td>Walk-in</td>\n",
       "      <td>30</td>\n",
       "      <td>438668</td>\n",
       "      <td>34023</td>\n",
       "      <td>Savings</td>\n",
       "      <td>9113</td>\n",
       "      <td>352471</td>\n",
       "      <td>12841.190780</td>\n",
       "      <td>0.645275</td>\n",
       "      <td>0</td>\n",
       "    </tr>\n",
       "    <tr>\n",
       "      <th>4</th>\n",
       "      <td>Male</td>\n",
       "      <td>54</td>\n",
       "      <td>Salaried</td>\n",
       "      <td>709</td>\n",
       "      <td>Walk-in</td>\n",
       "      <td>10</td>\n",
       "      <td>260927</td>\n",
       "      <td>23957</td>\n",
       "      <td>Current</td>\n",
       "      <td>13760</td>\n",
       "      <td>150190</td>\n",
       "      <td>15505.063365</td>\n",
       "      <td>1.221566</td>\n",
       "      <td>0</td>\n",
       "    </tr>\n",
       "  </tbody>\n",
       "</table>\n",
       "</div>"
      ],
      "text/plain": [
       "   Gender  Age Employment Type  Credit Score Source of Lead  Loan Period  \\\n",
       "0    Male   64   Self Employed           637           Call            5   \n",
       "1  Female   24        Salaried           469         Online           10   \n",
       "2  Female   49        Salaried           678        Walk-in           10   \n",
       "3  Female   53        Salaried           651        Walk-in           30   \n",
       "4    Male   54        Salaried           709        Walk-in           10   \n",
       "\n",
       "   Value of Collateral  Monthly Income Bank Account Type  Existing EMI  \\\n",
       "0                 9398          136924           Savings         19786   \n",
       "1                61140          104646           Savings         19124   \n",
       "2               135590          151255           Savings         13071   \n",
       "3               438668           34023           Savings          9113   \n",
       "4               260927           23957           Current         13760   \n",
       "\n",
       "   Loan Amount  Estimated EMI  New Debt to Income ratio  Loan Approved  \n",
       "0        85449   17390.031160                  0.271509              0  \n",
       "1       343120   35422.447180                  0.521247              0  \n",
       "2       118681   12252.190061                  0.167421              0  \n",
       "3       352471   12841.190780                  0.645275              0  \n",
       "4       150190   15505.063365                  1.221566              0  "
      ]
     },
     "execution_count": 4,
     "metadata": {},
     "output_type": "execute_result"
    }
   ],
   "source": [
    "df.head()"
   ]
  },
  {
   "cell_type": "code",
   "execution_count": 5,
   "id": "3b158260-0c88-4baa-831e-fe9b16cab800",
   "metadata": {},
   "outputs": [
    {
     "data": {
      "text/plain": [
       "Index(['Gender', 'Age', 'Employment Type', 'Credit Score', 'Source of Lead',\n",
       "       'Loan Period', 'Value of Collateral', 'Monthly Income',\n",
       "       'Bank Account Type', 'Existing EMI', 'Loan Amount', 'Estimated EMI',\n",
       "       'New Debt to Income ratio', 'Loan Approved'],\n",
       "      dtype='object')"
      ]
     },
     "execution_count": 5,
     "metadata": {},
     "output_type": "execute_result"
    }
   ],
   "source": [
    "df.columns"
   ]
  },
  {
   "cell_type": "markdown",
   "id": "b0ca9271-e514-4b11-ab69-e14bed6ea009",
   "metadata": {
    "tags": []
   },
   "source": [
    "## Create Dummy Variables"
   ]
  },
  {
   "cell_type": "code",
   "execution_count": 6,
   "id": "92c2f6d8-0e7e-4650-8038-f837fccaca8e",
   "metadata": {},
   "outputs": [
    {
     "name": "stdout",
     "output_type": "stream",
     "text": [
      "['Gender', 'Employment Type', 'Source of Lead', 'Bank Account Type']\n"
     ]
    }
   ],
   "source": [
    "non_numerical_columns = df.select_dtypes(exclude=['number']).columns.tolist()\n",
    "print(non_numerical_columns)"
   ]
  },
  {
   "cell_type": "code",
   "execution_count": 7,
   "id": "d545ff4e-bd21-4273-ae6d-78813d42d4e0",
   "metadata": {},
   "outputs": [],
   "source": [
    "dummy_df = pd.get_dummies(df, prefix=non_numerical_columns)"
   ]
  },
  {
   "cell_type": "code",
   "execution_count": 8,
   "id": "b4e49886-0fe3-46a1-aa98-ffbda07bdfe6",
   "metadata": {},
   "outputs": [
    {
     "data": {
      "text/html": [
       "<div>\n",
       "<style scoped>\n",
       "    .dataframe tbody tr th:only-of-type {\n",
       "        vertical-align: middle;\n",
       "    }\n",
       "\n",
       "    .dataframe tbody tr th {\n",
       "        vertical-align: top;\n",
       "    }\n",
       "\n",
       "    .dataframe thead th {\n",
       "        text-align: right;\n",
       "    }\n",
       "</style>\n",
       "<table border=\"1\" class=\"dataframe\">\n",
       "  <thead>\n",
       "    <tr style=\"text-align: right;\">\n",
       "      <th></th>\n",
       "      <th>Age</th>\n",
       "      <th>Credit Score</th>\n",
       "      <th>Loan Period</th>\n",
       "      <th>Value of Collateral</th>\n",
       "      <th>Monthly Income</th>\n",
       "      <th>Existing EMI</th>\n",
       "      <th>Loan Amount</th>\n",
       "      <th>Estimated EMI</th>\n",
       "      <th>New Debt to Income ratio</th>\n",
       "      <th>Loan Approved</th>\n",
       "      <th>...</th>\n",
       "      <th>Gender_Others</th>\n",
       "      <th>Employment Type_Business</th>\n",
       "      <th>Employment Type_Salaried</th>\n",
       "      <th>Employment Type_Self Employed</th>\n",
       "      <th>Source of Lead_Call</th>\n",
       "      <th>Source of Lead_Email</th>\n",
       "      <th>Source of Lead_Online</th>\n",
       "      <th>Source of Lead_Walk-in</th>\n",
       "      <th>Bank Account Type_Current</th>\n",
       "      <th>Bank Account Type_Savings</th>\n",
       "    </tr>\n",
       "  </thead>\n",
       "  <tbody>\n",
       "    <tr>\n",
       "      <th>0</th>\n",
       "      <td>64</td>\n",
       "      <td>637</td>\n",
       "      <td>5</td>\n",
       "      <td>9398</td>\n",
       "      <td>136924</td>\n",
       "      <td>19786</td>\n",
       "      <td>85449</td>\n",
       "      <td>17390.031160</td>\n",
       "      <td>0.271509</td>\n",
       "      <td>0</td>\n",
       "      <td>...</td>\n",
       "      <td>0</td>\n",
       "      <td>0</td>\n",
       "      <td>0</td>\n",
       "      <td>1</td>\n",
       "      <td>1</td>\n",
       "      <td>0</td>\n",
       "      <td>0</td>\n",
       "      <td>0</td>\n",
       "      <td>0</td>\n",
       "      <td>1</td>\n",
       "    </tr>\n",
       "    <tr>\n",
       "      <th>1</th>\n",
       "      <td>24</td>\n",
       "      <td>469</td>\n",
       "      <td>10</td>\n",
       "      <td>61140</td>\n",
       "      <td>104646</td>\n",
       "      <td>19124</td>\n",
       "      <td>343120</td>\n",
       "      <td>35422.447180</td>\n",
       "      <td>0.521247</td>\n",
       "      <td>0</td>\n",
       "      <td>...</td>\n",
       "      <td>0</td>\n",
       "      <td>0</td>\n",
       "      <td>1</td>\n",
       "      <td>0</td>\n",
       "      <td>0</td>\n",
       "      <td>0</td>\n",
       "      <td>1</td>\n",
       "      <td>0</td>\n",
       "      <td>0</td>\n",
       "      <td>1</td>\n",
       "    </tr>\n",
       "    <tr>\n",
       "      <th>2</th>\n",
       "      <td>49</td>\n",
       "      <td>678</td>\n",
       "      <td>10</td>\n",
       "      <td>135590</td>\n",
       "      <td>151255</td>\n",
       "      <td>13071</td>\n",
       "      <td>118681</td>\n",
       "      <td>12252.190061</td>\n",
       "      <td>0.167421</td>\n",
       "      <td>0</td>\n",
       "      <td>...</td>\n",
       "      <td>0</td>\n",
       "      <td>0</td>\n",
       "      <td>1</td>\n",
       "      <td>0</td>\n",
       "      <td>0</td>\n",
       "      <td>0</td>\n",
       "      <td>0</td>\n",
       "      <td>1</td>\n",
       "      <td>0</td>\n",
       "      <td>1</td>\n",
       "    </tr>\n",
       "    <tr>\n",
       "      <th>3</th>\n",
       "      <td>53</td>\n",
       "      <td>651</td>\n",
       "      <td>30</td>\n",
       "      <td>438668</td>\n",
       "      <td>34023</td>\n",
       "      <td>9113</td>\n",
       "      <td>352471</td>\n",
       "      <td>12841.190780</td>\n",
       "      <td>0.645275</td>\n",
       "      <td>0</td>\n",
       "      <td>...</td>\n",
       "      <td>0</td>\n",
       "      <td>0</td>\n",
       "      <td>1</td>\n",
       "      <td>0</td>\n",
       "      <td>0</td>\n",
       "      <td>0</td>\n",
       "      <td>0</td>\n",
       "      <td>1</td>\n",
       "      <td>0</td>\n",
       "      <td>1</td>\n",
       "    </tr>\n",
       "    <tr>\n",
       "      <th>4</th>\n",
       "      <td>54</td>\n",
       "      <td>709</td>\n",
       "      <td>10</td>\n",
       "      <td>260927</td>\n",
       "      <td>23957</td>\n",
       "      <td>13760</td>\n",
       "      <td>150190</td>\n",
       "      <td>15505.063365</td>\n",
       "      <td>1.221566</td>\n",
       "      <td>0</td>\n",
       "      <td>...</td>\n",
       "      <td>0</td>\n",
       "      <td>0</td>\n",
       "      <td>1</td>\n",
       "      <td>0</td>\n",
       "      <td>0</td>\n",
       "      <td>0</td>\n",
       "      <td>0</td>\n",
       "      <td>1</td>\n",
       "      <td>1</td>\n",
       "      <td>0</td>\n",
       "    </tr>\n",
       "    <tr>\n",
       "      <th>...</th>\n",
       "      <td>...</td>\n",
       "      <td>...</td>\n",
       "      <td>...</td>\n",
       "      <td>...</td>\n",
       "      <td>...</td>\n",
       "      <td>...</td>\n",
       "      <td>...</td>\n",
       "      <td>...</td>\n",
       "      <td>...</td>\n",
       "      <td>...</td>\n",
       "      <td>...</td>\n",
       "      <td>...</td>\n",
       "      <td>...</td>\n",
       "      <td>...</td>\n",
       "      <td>...</td>\n",
       "      <td>...</td>\n",
       "      <td>...</td>\n",
       "      <td>...</td>\n",
       "      <td>...</td>\n",
       "      <td>...</td>\n",
       "      <td>...</td>\n",
       "    </tr>\n",
       "    <tr>\n",
       "      <th>4995</th>\n",
       "      <td>67</td>\n",
       "      <td>848</td>\n",
       "      <td>10</td>\n",
       "      <td>148261</td>\n",
       "      <td>91031</td>\n",
       "      <td>19158</td>\n",
       "      <td>36935</td>\n",
       "      <td>3813.033593</td>\n",
       "      <td>0.252343</td>\n",
       "      <td>0</td>\n",
       "      <td>...</td>\n",
       "      <td>0</td>\n",
       "      <td>0</td>\n",
       "      <td>1</td>\n",
       "      <td>0</td>\n",
       "      <td>0</td>\n",
       "      <td>0</td>\n",
       "      <td>0</td>\n",
       "      <td>1</td>\n",
       "      <td>0</td>\n",
       "      <td>1</td>\n",
       "    </tr>\n",
       "    <tr>\n",
       "      <th>4996</th>\n",
       "      <td>65</td>\n",
       "      <td>619</td>\n",
       "      <td>1</td>\n",
       "      <td>222489</td>\n",
       "      <td>188441</td>\n",
       "      <td>4404</td>\n",
       "      <td>46102</td>\n",
       "      <td>46370.928333</td>\n",
       "      <td>0.269447</td>\n",
       "      <td>0</td>\n",
       "      <td>...</td>\n",
       "      <td>0</td>\n",
       "      <td>0</td>\n",
       "      <td>1</td>\n",
       "      <td>0</td>\n",
       "      <td>0</td>\n",
       "      <td>0</td>\n",
       "      <td>0</td>\n",
       "      <td>1</td>\n",
       "      <td>0</td>\n",
       "      <td>1</td>\n",
       "    </tr>\n",
       "    <tr>\n",
       "      <th>4997</th>\n",
       "      <td>51</td>\n",
       "      <td>540</td>\n",
       "      <td>1</td>\n",
       "      <td>305298</td>\n",
       "      <td>107664</td>\n",
       "      <td>18578</td>\n",
       "      <td>457509</td>\n",
       "      <td>460177.802500</td>\n",
       "      <td>4.446758</td>\n",
       "      <td>0</td>\n",
       "      <td>...</td>\n",
       "      <td>0</td>\n",
       "      <td>0</td>\n",
       "      <td>0</td>\n",
       "      <td>1</td>\n",
       "      <td>0</td>\n",
       "      <td>0</td>\n",
       "      <td>0</td>\n",
       "      <td>1</td>\n",
       "      <td>0</td>\n",
       "      <td>1</td>\n",
       "    </tr>\n",
       "    <tr>\n",
       "      <th>4998</th>\n",
       "      <td>24</td>\n",
       "      <td>649</td>\n",
       "      <td>10</td>\n",
       "      <td>367683</td>\n",
       "      <td>143600</td>\n",
       "      <td>8769</td>\n",
       "      <td>29729</td>\n",
       "      <td>3069.112649</td>\n",
       "      <td>0.082438</td>\n",
       "      <td>1</td>\n",
       "      <td>...</td>\n",
       "      <td>0</td>\n",
       "      <td>0</td>\n",
       "      <td>1</td>\n",
       "      <td>0</td>\n",
       "      <td>0</td>\n",
       "      <td>0</td>\n",
       "      <td>1</td>\n",
       "      <td>0</td>\n",
       "      <td>0</td>\n",
       "      <td>1</td>\n",
       "    </tr>\n",
       "    <tr>\n",
       "      <th>4999</th>\n",
       "      <td>53</td>\n",
       "      <td>669</td>\n",
       "      <td>5</td>\n",
       "      <td>82423</td>\n",
       "      <td>82999</td>\n",
       "      <td>4271</td>\n",
       "      <td>77797</td>\n",
       "      <td>15832.745312</td>\n",
       "      <td>0.242217</td>\n",
       "      <td>0</td>\n",
       "      <td>...</td>\n",
       "      <td>0</td>\n",
       "      <td>0</td>\n",
       "      <td>1</td>\n",
       "      <td>0</td>\n",
       "      <td>0</td>\n",
       "      <td>0</td>\n",
       "      <td>0</td>\n",
       "      <td>1</td>\n",
       "      <td>0</td>\n",
       "      <td>1</td>\n",
       "    </tr>\n",
       "  </tbody>\n",
       "</table>\n",
       "<p>5000 rows × 22 columns</p>\n",
       "</div>"
      ],
      "text/plain": [
       "      Age  Credit Score  Loan Period  Value of Collateral  Monthly Income  \\\n",
       "0      64           637            5                 9398          136924   \n",
       "1      24           469           10                61140          104646   \n",
       "2      49           678           10               135590          151255   \n",
       "3      53           651           30               438668           34023   \n",
       "4      54           709           10               260927           23957   \n",
       "...   ...           ...          ...                  ...             ...   \n",
       "4995   67           848           10               148261           91031   \n",
       "4996   65           619            1               222489          188441   \n",
       "4997   51           540            1               305298          107664   \n",
       "4998   24           649           10               367683          143600   \n",
       "4999   53           669            5                82423           82999   \n",
       "\n",
       "      Existing EMI  Loan Amount  Estimated EMI  New Debt to Income ratio  \\\n",
       "0            19786        85449   17390.031160                  0.271509   \n",
       "1            19124       343120   35422.447180                  0.521247   \n",
       "2            13071       118681   12252.190061                  0.167421   \n",
       "3             9113       352471   12841.190780                  0.645275   \n",
       "4            13760       150190   15505.063365                  1.221566   \n",
       "...            ...          ...            ...                       ...   \n",
       "4995         19158        36935    3813.033593                  0.252343   \n",
       "4996          4404        46102   46370.928333                  0.269447   \n",
       "4997         18578       457509  460177.802500                  4.446758   \n",
       "4998          8769        29729    3069.112649                  0.082438   \n",
       "4999          4271        77797   15832.745312                  0.242217   \n",
       "\n",
       "      Loan Approved  ...  Gender_Others  Employment Type_Business  \\\n",
       "0                 0  ...              0                         0   \n",
       "1                 0  ...              0                         0   \n",
       "2                 0  ...              0                         0   \n",
       "3                 0  ...              0                         0   \n",
       "4                 0  ...              0                         0   \n",
       "...             ...  ...            ...                       ...   \n",
       "4995              0  ...              0                         0   \n",
       "4996              0  ...              0                         0   \n",
       "4997              0  ...              0                         0   \n",
       "4998              1  ...              0                         0   \n",
       "4999              0  ...              0                         0   \n",
       "\n",
       "      Employment Type_Salaried  Employment Type_Self Employed  \\\n",
       "0                            0                              1   \n",
       "1                            1                              0   \n",
       "2                            1                              0   \n",
       "3                            1                              0   \n",
       "4                            1                              0   \n",
       "...                        ...                            ...   \n",
       "4995                         1                              0   \n",
       "4996                         1                              0   \n",
       "4997                         0                              1   \n",
       "4998                         1                              0   \n",
       "4999                         1                              0   \n",
       "\n",
       "      Source of Lead_Call  Source of Lead_Email  Source of Lead_Online  \\\n",
       "0                       1                     0                      0   \n",
       "1                       0                     0                      1   \n",
       "2                       0                     0                      0   \n",
       "3                       0                     0                      0   \n",
       "4                       0                     0                      0   \n",
       "...                   ...                   ...                    ...   \n",
       "4995                    0                     0                      0   \n",
       "4996                    0                     0                      0   \n",
       "4997                    0                     0                      0   \n",
       "4998                    0                     0                      1   \n",
       "4999                    0                     0                      0   \n",
       "\n",
       "      Source of Lead_Walk-in  Bank Account Type_Current  \\\n",
       "0                          0                          0   \n",
       "1                          0                          0   \n",
       "2                          1                          0   \n",
       "3                          1                          0   \n",
       "4                          1                          1   \n",
       "...                      ...                        ...   \n",
       "4995                       1                          0   \n",
       "4996                       1                          0   \n",
       "4997                       1                          0   \n",
       "4998                       0                          0   \n",
       "4999                       1                          0   \n",
       "\n",
       "      Bank Account Type_Savings  \n",
       "0                             1  \n",
       "1                             1  \n",
       "2                             1  \n",
       "3                             1  \n",
       "4                             0  \n",
       "...                         ...  \n",
       "4995                          1  \n",
       "4996                          1  \n",
       "4997                          1  \n",
       "4998                          1  \n",
       "4999                          1  \n",
       "\n",
       "[5000 rows x 22 columns]"
      ]
     },
     "execution_count": 8,
     "metadata": {},
     "output_type": "execute_result"
    }
   ],
   "source": [
    "dummy_df"
   ]
  },
  {
   "cell_type": "markdown",
   "id": "17fcca4f-29d1-409b-bf24-605b9cacc173",
   "metadata": {
    "tags": []
   },
   "source": [
    "## Train/Test Split"
   ]
  },
  {
   "cell_type": "code",
   "execution_count": 9,
   "id": "fa04f446-5371-4adc-ba09-0e07c8747fb4",
   "metadata": {},
   "outputs": [],
   "source": [
    "X = dummy_df.loc[:, dummy_df.columns != 'Loan Approved']\n",
    "y = dummy_df['Loan Approved']"
   ]
  },
  {
   "cell_type": "code",
   "execution_count": 10,
   "id": "9aff8233-e53c-4cba-a6f0-c826e67060b7",
   "metadata": {},
   "outputs": [],
   "source": [
    "X_train, X_test, y_train, y_test = train_test_split(X, y, test_size=0.4, random_state=42)"
   ]
  },
  {
   "cell_type": "markdown",
   "id": "d626a7b8-d1ca-4cdf-9f2a-79a7617df5a3",
   "metadata": {
    "tags": []
   },
   "source": [
    "## Addressing Class Imbalance"
   ]
  },
  {
   "cell_type": "code",
   "execution_count": 11,
   "id": "e9e94b21-d036-4df2-a0f8-d5557ec3d482",
   "metadata": {},
   "outputs": [
    {
     "data": {
      "image/png": "[encoded data removed]",
      "text/plain": [
       "<Figure size 640x480 with 1 Axes>"
      ]
     },
     "metadata": {},
     "output_type": "display_data"
    }
   ],
   "source": [
    "y_train.value_counts().plot(kind='bar', title='Class Distribution before SMOTE')\n",
    "plt.show()"
   ]
  },
  {
   "cell_type": "code",
   "execution_count": 12,
   "id": "ea181928-51f8-4103-8ee7-3ccb90c9f6bd",
   "metadata": {},
   "outputs": [],
   "source": [
    "smote = SMOTE(random_state=42)\n",
    "X_train_smote, y_train_smote = smote.fit_resample(X_train, y_train)"
   ]
  },
  {
   "cell_type": "code",
   "execution_count": 13,
   "id": "a0786d3f-509a-484d-8437-4094eb25be88",
   "metadata": {},
   "outputs": [
    {
     "data": {
      "text/plain": [
       "<AxesSubplot:title={'center':'Class Distribution after SMOTE'}>"
      ]
     },
     "execution_count": 13,
     "metadata": {},
     "output_type": "execute_result"
    },
    {
     "data": {
      "image/png": "[encoded data removed]",
      "text/plain": [
       "<Figure size 640x480 with 1 Axes>"
      ]
     },
     "metadata": {},
     "output_type": "display_data"
    }
   ],
   "source": [
    "y_train_smote.value_counts().plot(kind='bar', title='Class Distribution after SMOTE')"
   ]
  },
  {
   "cell_type": "markdown",
   "id": "9be5171f-7fd2-4e32-befe-2b251753dfba",
   "metadata": {},
   "source": [
    "## Logisitc Regression"
   ]
  },
  {
   "cell_type": "code",
   "execution_count": 14,
   "id": "373ead46-ee9b-4708-8d24-3f1284a07ad9",
   "metadata": {},
   "outputs": [
    {
     "name": "stdout",
     "output_type": "stream",
     "text": [
      "Model Training Time (in seconds):  1.6198225021362305\n"
     ]
    }
   ],
   "source": [
    "start_time = time.time()\n",
    "log_reg_model = LogisticRegression(max_iter=1000).fit(X_train_smote, y_train_smote)\n",
    "logreg_train_time = time.time() - start_time\n",
    "print(\"Model Training Time (in seconds): \",logreg_train_time)"
   ]
  },
  {
   "cell_type": "code",
   "execution_count": 15,
   "id": "3e6a3ad0-ca1d-485a-afd9-d9c090e57f7e",
   "metadata": {},
   "outputs": [
    {
     "name": "stdout",
     "output_type": "stream",
     "text": [
      "Model Accuracy:  0.8325\n",
      "Model Inference Time (in seconds):  0.09407997131347656\n"
     ]
    }
   ],
   "source": [
    "start_time = time.time()\n",
    "y_pred = log_reg_model.predict(X_test)\n",
    "model_accuracy = accuracy_score(y_test, y_pred)\n",
    "logreg_pred_time = time.time() - start_time\n",
    "print(\"Model Accuracy: \",model_accuracy)\n",
    "print(\"Model Inference Time (in seconds): \",logreg_pred_time)"
   ]
  },
  {
   "cell_type": "markdown",
   "id": "f7f4666c-be58-4b54-83a6-7b56d66fe204",
   "metadata": {},
   "source": [
    "## Decision Tree"
   ]
  },
  {
   "cell_type": "code",
   "execution_count": 16,
   "id": "cfb777b3-e41a-412f-976c-38e73329090b",
   "metadata": {},
   "outputs": [
    {
     "name": "stdout",
     "output_type": "stream",
     "text": [
      "Model Training Time (in seconds):  0.14240407943725586\n"
     ]
    }
   ],
   "source": [
    "start_time = time.time()\n",
    "dtc = tree.DecisionTreeClassifier(random_state=42)\n",
    "dtc_model = dtc.fit(X_train_smote, y_train_smote)\n",
    "dtc_train_time = time.time() - start_time\n",
    "print(\"Model Training Time (in seconds): \",dtc_train_time)"
   ]
  },
  {
   "cell_type": "code",
   "execution_count": 17,
   "id": "fe48d1e4-9d19-4f0c-a247-cb482885c38b",
   "metadata": {},
   "outputs": [
    {
     "name": "stdout",
     "output_type": "stream",
     "text": [
      "Model Accuracy:  0.953\n",
      "Model Inference Time (in seconds):  0.09407997131347656\n"
     ]
    }
   ],
   "source": [
    "start_time = time.time()\n",
    "y_pred = dtc_model.predict(X_test)\n",
    "model_accuracy = accuracy_score(y_test, y_pred)\n",
    "dtc_pred_time = time.time() - start_time\n",
    "print(\"Model Accuracy: \",model_accuracy)\n",
    "print(\"Model Inference Time (in seconds): \",logreg_pred_time)"
   ]
  },
  {
   "cell_type": "markdown",
   "id": "1d48fe84-7c7c-4664-8f6e-8b87cf7e2c3f",
   "metadata": {},
   "source": [
    "## XGBoost Classifier"
   ]
  },
  {
   "cell_type": "code",
   "execution_count": 18,
   "id": "67e33a50-23ba-4f67-817e-19557f6c861a",
   "metadata": {},
   "outputs": [
    {
     "name": "stdout",
     "output_type": "stream",
     "text": [
      "Model Training Time (in seconds):  0.855039119720459\n"
     ]
    }
   ],
   "source": [
    "start_time = time.time()\n",
    "xgb_cl = XGBClassifier(\n",
    "    n_estimators=50,\n",
    "    learning_rate=0.1,\n",
    "    random_state=42,\n",
    "    use_label_encoder=False,\n",
    "    eval_metric='logloss')\n",
    "\n",
    "xgb_model = xgb_cl.fit(X_train_smote, y_train_smote)\n",
    "xgb_train_time = time.time() - start_time\n",
    "print(\"Model Training Time (in seconds): \",xgb_train_time)"
   ]
  },
  {
   "cell_type": "code",
   "execution_count": 19,
   "id": "f4db9b96-4e14-475c-941a-254e47022529",
   "metadata": {},
   "outputs": [
    {
     "name": "stdout",
     "output_type": "stream",
     "text": [
      "Model Accuracy:  0.972\n",
      "Model Inference Time (in seconds):  0.010216236114501953\n"
     ]
    }
   ],
   "source": [
    "start_time = time.time()\n",
    "y_pred = xgb_model.predict(X_test)\n",
    "model_accuracy = accuracy_score(y_test, y_pred)\n",
    "xgb_model_pred_time = time.time() - start_time\n",
    "print(\"Model Accuracy: \",model_accuracy)\n",
    "print(\"Model Inference Time (in seconds): \",xgb_model_pred_time)"
   ]
  },
  {
   "cell_type": "markdown",
   "id": "d5ef0adb-1559-4f32-89f2-c880b52d77a7",
   "metadata": {},
   "source": [
    "## SVM Classifier"
   ]
  },
  {
   "cell_type": "code",
   "execution_count": 20,
   "id": "e01f18e6-55b4-4d64-b4ba-9f3ea73e4444",
   "metadata": {},
   "outputs": [
    {
     "name": "stdout",
     "output_type": "stream",
     "text": [
      "Model Training Time (in seconds):  0.855039119720459\n"
     ]
    }
   ],
   "source": [
    "start_time = time.time()\n",
    "svm_cl = svm.SVC(random_state = 42)\n",
    "\n",
    "svm_model = svm_cl.fit(X_train_smote, y_train_smote)\n",
    "svm_train_time = time.time() - start_time\n",
    "print(\"Model Training Time (in seconds): \",xgb_train_time)"
   ]
  },
  {
   "cell_type": "code",
   "execution_count": 21,
   "id": "7ffc8b67-0085-4b2c-8784-1383f40508b0",
   "metadata": {},
   "outputs": [
    {
     "name": "stdout",
     "output_type": "stream",
     "text": [
      "Model Accuracy:  0.8505\n",
      "Model Inference Time (in seconds):  0.33590078353881836\n"
     ]
    }
   ],
   "source": [
    "start_time = time.time()\n",
    "y_pred = svm_model.predict(X_test)\n",
    "model_accuracy = accuracy_score(y_test, y_pred)\n",
    "svm_model_pred_time = time.time() - start_time\n",
    "print(\"Model Accuracy: \",model_accuracy)\n",
    "print(\"Model Inference Time (in seconds): \",svm_model_pred_time)"
   ]
  },
  {
   "cell_type": "markdown",
   "id": "16e4d8e9-2999-40a6-bbcc-b119a26dad46",
   "metadata": {},
   "source": [
    "## Model Evaluation: Storage Space"
   ]
  },
  {
   "cell_type": "code",
   "execution_count": 29,
   "id": "4c4933e8-60e9-46ff-80aa-032b31878efb",
   "metadata": {},
   "outputs": [
    {
     "name": "stdout",
     "output_type": "stream",
     "text": [
      "LogReg model size (in kilobytes):  1.39\n",
      "Decision Tree model size (in kilobytes):  15.7\n",
      "XGBoost model size (in kilobytes):  135.83\n",
      "SVM model size (in kilobytes):  287.42\n"
     ]
    }
   ],
   "source": [
    "logreg_stream = pickle.dumps(log_reg_model)\n",
    "logreg_size = sys.getsizeof(logreg_stream)\n",
    "\n",
    "dtree_stream = pickle.dumps(dtc_model)\n",
    "dtree_size = sys.getsizeof(dtree_stream)\n",
    "\n",
    "xgb_model_stream = pickle.dumps(xgb_model)\n",
    "xgb_model_size = sys.getsizeof(xgb_model_stream)\n",
    "\n",
    "svm_model_stream = pickle.dumps(svm_model)\n",
    "svm_model_size = sys.getsizeof(svm_model_stream)\n",
    "\n",
    "## Sizes of models (in kilobytes)\n",
    "print(\"LogReg model size (in kilobytes): \",round(logreg_size/1024,2))\n",
    "print(\"Decision Tree model size (in kilobytes): \",round(dtree_size/1024,2))\n",
    "print(\"XGBoost model size (in kilobytes): \",round(xgb_model_size/1024,2))\n",
    "print(\"SVM model size (in kilobytes): \",round(svm_model_size/1024,2))"
   ]
  },
  {
   "cell_type": "markdown",
   "id": "25b0b5f5-2f19-4e08-b12a-adc591e93de9",
   "metadata": {},
   "source": [
    "## Identify Top Two Predictor Variables for Each Model"
   ]
  },
  {
   "cell_type": "markdown",
   "id": "452b7811-c82e-4655-8ff3-caaeba0c99ab",
   "metadata": {},
   "source": [
    "#### Logistic Regression"
   ]
  },
  {
   "cell_type": "code",
   "execution_count": 23,
   "id": "c969214f-bbb5-4751-a4d8-ebb398b31289",
   "metadata": {},
   "outputs": [
    {
     "data": {
      "text/html": [
       "<div>\n",
       "<style scoped>\n",
       "    .dataframe tbody tr th:only-of-type {\n",
       "        vertical-align: middle;\n",
       "    }\n",
       "\n",
       "    .dataframe tbody tr th {\n",
       "        vertical-align: top;\n",
       "    }\n",
       "\n",
       "    .dataframe thead th {\n",
       "        text-align: right;\n",
       "    }\n",
       "</style>\n",
       "<table border=\"1\" class=\"dataframe\">\n",
       "  <thead>\n",
       "    <tr style=\"text-align: right;\">\n",
       "      <th></th>\n",
       "      <th>Feature_Names</th>\n",
       "      <th>Coefs</th>\n",
       "      <th>Coefs_abs_value</th>\n",
       "    </tr>\n",
       "  </thead>\n",
       "  <tbody>\n",
       "    <tr>\n",
       "      <th>0</th>\n",
       "      <td>Age</td>\n",
       "      <td>-0.092372</td>\n",
       "      <td>0.092372</td>\n",
       "    </tr>\n",
       "    <tr>\n",
       "      <th>2</th>\n",
       "      <td>Loan Period</td>\n",
       "      <td>-0.029301</td>\n",
       "      <td>0.029301</td>\n",
       "    </tr>\n",
       "  </tbody>\n",
       "</table>\n",
       "</div>"
      ],
      "text/plain": [
       "  Feature_Names     Coefs  Coefs_abs_value\n",
       "0           Age -0.092372         0.092372\n",
       "2   Loan Period -0.029301         0.029301"
      ]
     },
     "execution_count": 23,
     "metadata": {},
     "output_type": "execute_result"
    }
   ],
   "source": [
    "Coef_df = pd.DataFrame({\n",
    "    \"Feature_Names\":list(log_reg_model.feature_names_in_),\n",
    "    \"Coefs\":list(log_reg_model.coef_[0])\n",
    "})\n",
    "\n",
    "Coef_df['Coefs_abs_value'] = Coef_df['Coefs'].abs()\n",
    "Coef_df.sort_values(by=['Coefs_abs_value'],ascending=False)[:2]"
   ]
  },
  {
   "cell_type": "markdown",
   "id": "96fb16b9-7c53-4909-8980-7fa1a4b11dff",
   "metadata": {},
   "source": [
    "#### Decision Tree"
   ]
  },
  {
   "cell_type": "code",
   "execution_count": 24,
   "id": "9e0dbf66-d9a2-4914-abc2-2c48f2147650",
   "metadata": {},
   "outputs": [
    {
     "data": {
      "text/plain": [
       "Index(['New Debt to Income ratio', 'Value of Collateral'], dtype='object')"
      ]
     },
     "execution_count": 24,
     "metadata": {},
     "output_type": "execute_result"
    }
   ],
   "source": [
    "top_2_dtree_features = X.columns[dtc_model.feature_importances_.argsort()[-2:][::-1]]\n",
    "top_2_dtree_features"
   ]
  },
  {
   "cell_type": "markdown",
   "id": "65594874-35b9-485e-a6a8-ecfb8ec70a7e",
   "metadata": {},
   "source": [
    "#### XGBoost"
   ]
  },
  {
   "cell_type": "code",
   "execution_count": 25,
   "id": "11ddd785-3490-4002-a8ab-e3f69bf688f0",
   "metadata": {},
   "outputs": [
    {
     "data": {
      "text/plain": [
       "Index(['New Debt to Income ratio', 'Value of Collateral'], dtype='object')"
      ]
     },
     "execution_count": 25,
     "metadata": {},
     "output_type": "execute_result"
    }
   ],
   "source": [
    "top_2_xgboost_features = X.columns[xgb_model.feature_importances_.argsort()[-2:][::-1]]\n",
    "top_2_xgboost_features"
   ]
  }
 ],
 "metadata": {
  "kernelspec": {
   "display_name": "Python 3 (ipykernel)",
   "language": "python",
   "name": "python3"
  },
  "language_info": {
   "codemirror_mode": {
    "name": "ipython",
    "version": 3
   },
   "file_extension": ".py",
   "mimetype": "text/x-python",
   "name": "python",
   "nbconvert_exporter": "python",
   "pygments_lexer": "ipython3",
   "version": "3.8.10"
  }
 },
 "nbformat": 4,
 "nbformat_minor": 5
}
